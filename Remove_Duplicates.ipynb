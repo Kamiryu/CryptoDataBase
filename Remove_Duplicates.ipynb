{
 "cells": [
  {
   "cell_type": "code",
   "execution_count": 1,
   "metadata": {},
   "outputs": [],
   "source": [
    "import sqlite3"
   ]
  },
  {
   "cell_type": "code",
   "execution_count": 2,
   "metadata": {},
   "outputs": [],
   "source": [
    "conn = sqlite3.connect(\"Cointest.db\")\n",
    "\n",
    "cursor = conn.cursor()"
   ]
  },
  {
   "attachments": {},
   "cell_type": "markdown",
   "metadata": {},
   "source": [
    "Getting the table names from the database"
   ]
  },
  {
   "cell_type": "code",
   "execution_count": 8,
   "metadata": {},
   "outputs": [
    {
     "data": {
      "text/plain": [
       "[('BTCUSDT',), ('ETHUSDT',), ('BNBUSDT',), ('SOLUSDT',)]"
      ]
     },
     "execution_count": 8,
     "metadata": {},
     "output_type": "execute_result"
    }
   ],
   "source": [
    "cursor.execute(\"SELECT name FROM  sqlite_master WHERE type='table'\") # SQL query to retrieve the names\n",
    "table_names =cursor.fetchall()"
   ]
  },
  {
   "cell_type": "code",
   "execution_count": 12,
   "metadata": {},
   "outputs": [],
   "source": [
    "for i in range(len(table_names)):\n",
    "    table_names[i] = table_names[i][0] #Extract the string from the tuple"
   ]
  },
  {
   "cell_type": "code",
   "execution_count": 13,
   "metadata": {},
   "outputs": [
    {
     "data": {
      "text/plain": [
       "['BTCUSDT', 'ETHUSDT', 'BNBUSDT', 'SOLUSDT']"
      ]
     },
     "execution_count": 13,
     "metadata": {},
     "output_type": "execute_result"
    }
   ],
   "source": [
    "table_names"
   ]
  },
  {
   "cell_type": "code",
   "execution_count": 14,
   "metadata": {},
   "outputs": [],
   "source": [
    "for table in table_names:\n",
    "    cursor.execute(f\"CREATE TABLE {table}_unique AS SELECT DISTINCT * FROM {table}\")\n",
    "    conn.commit()\n",
    "    cursor.execute(f\"DROP TABLE {table}\")\n",
    "    conn.commit()\n",
    "    cursor.execute(f\"ALTER TABLE {table}_unique RENAME TO {table}\")\n",
    "    conn.commit()\n",
    "    "
   ]
  },
  {
   "attachments": {},
   "cell_type": "markdown",
   "metadata": {},
   "source": [
    "Remove Duplicates"
   ]
  },
  {
   "attachments": {},
   "cell_type": "markdown",
   "metadata": {},
   "source": [
    "--SQL commands <br>\n",
    "\n",
    "-- Create copy without duplicates <br>\n",
    "CREATE TABLE table_unique AS\n",
    "SELECT DISTINCT * FROM table; \n",
    "\n",
    "-- Remove table with duplicates <br>\n",
    "DROP TABLE table;\n",
    "\n",
    "-- Rename copy table <br>\n",
    "ALTER TABLE table_unique RENAME TO table;"
   ]
  }
 ],
 "metadata": {
  "kernelspec": {
   "display_name": "Python 3",
   "language": "python",
   "name": "python3"
  },
  "language_info": {
   "codemirror_mode": {
    "name": "ipython",
    "version": 3
   },
   "file_extension": ".py",
   "mimetype": "text/x-python",
   "name": "python",
   "nbconvert_exporter": "python",
   "pygments_lexer": "ipython3",
   "version": "3.10.5"
  },
  "orig_nbformat": 4,
  "vscode": {
   "interpreter": {
    "hash": "ccf5e4ab83eacdf363977c2bc558f5f5a475205572f7d21e716a409c3cccd370"
   }
  }
 },
 "nbformat": 4,
 "nbformat_minor": 2
}
